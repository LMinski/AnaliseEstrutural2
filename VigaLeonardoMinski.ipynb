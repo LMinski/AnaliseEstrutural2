{
 "cells": [
  {
   "attachments": {},
   "cell_type": "markdown",
   "metadata": {},
   "source": [
    "# Método para solução de sistemas lineares do tipo \"Kd=F\"\n",
    "\n",
    "## Solução de sistemas invertendo a Matriz K\n",
    "\n",
    "### Feito por: Leonardo Minski"
   ]
  },
  {
   "cell_type": "code",
   "execution_count": 48,
   "metadata": {},
   "outputs": [],
   "source": [
    "#Bibliotecas importadas\n",
    "\n",
    "import numpy as np # Version: 1.24.3\n",
    "from IPython.display import display, Math, HTML # Version 8.11.0\n",
    "import matplotlib.pyplot as plt # Version: 3.7.2"
   ]
  },
  {
   "cell_type": "code",
   "execution_count": 49,
   "metadata": {},
   "outputs": [
    {
     "name": "stdout",
     "output_type": "stream",
     "text": [
      "[[ 2.88e+03  1.44e+05 -2.88e+03  1.44e+05]\n",
      " [ 1.44e+05  9.60e+06 -1.44e+05  4.80e+06]\n",
      " [-2.88e+03 -1.44e+05  2.88e+03 -1.44e+05]\n",
      " [ 1.44e+05  4.80e+06 -1.44e+05  9.60e+06]]\n"
     ]
    }
   ],
   "source": [
    "#Dados de entrada\n",
    "\n",
    "E = 3000 #kN/cmˆ2\n",
    "bw = 15 # cm\n",
    "h = 40 # cm OBS: Se a altura fosse maior que 1m, esse modelo já não funcionaria mais bem\n",
    "I = bw*h**3/12 # cmˆ4\n",
    "L = 100 # cm\n",
    "\n",
    "#Diferentes intensidades de força [kN]\n",
    "\n",
    "P1 = 50 \n",
    "P2 = 70 \n",
    "P3 = 90\n",
    "\n",
    "\n",
    "Graus_de_Liberdade_Restringidos = [0, 4] # Graus onde não se permite deslocamento ou rotação\n",
    "\n",
    "\n",
    "Ke = np.array([[12*E*I/L**3, 6*E*I/L**2, -12*E*I/L**3, 6*E*I/L**2],\n",
    "      [6*E*I/L**2,  4*E*I/L,    -6*E*I/L**2,  2*E*I/L],\n",
    "      [-12*E*I/L**3, -6*E*I/L**2, 12*E*I/L**3, -6*E*I/L**2],\n",
    "      [6*E*I/L**2, 2*E*I/L, -6*E*I/L**2, 4*E*I/L]])\n",
    "\n",
    "print(Ke)"
   ]
  },
  {
   "cell_type": "code",
   "execution_count": 50,
   "metadata": {},
   "outputs": [
    {
     "data": {
      "text/plain": [
       "array([[0., 0., 0., 0., 0., 0.],\n",
       "       [0., 0., 0., 0., 0., 0.],\n",
       "       [0., 0., 0., 0., 0., 0.],\n",
       "       [0., 0., 0., 0., 0., 0.],\n",
       "       [0., 0., 0., 0., 0., 0.],\n",
       "       [0., 0., 0., 0., 0., 0.]])"
      ]
     },
     "execution_count": 50,
     "metadata": {},
     "output_type": "execute_result"
    }
   ],
   "source": [
    "#Número de nós e GDL definidos a partir do número de barras\n",
    "Num_Barras = 2\n",
    "Numero_Nos = Num_Barras + 1 \n",
    "Graus_Liberdade = Numero_Nos * 2 # Graus de liberdade, no caso é deslocamento, rotação, deslocamento, rotação e assim por diante...\n",
    "\n",
    "#Gerando matriz de zeros\n",
    "\n",
    "Matriz_geral = np.zeros((Graus_Liberdade, Graus_Liberdade))\n",
    "\n",
    "Matriz_geral # Matriz de rigidez geral\n"
   ]
  },
  {
   "cell_type": "code",
   "execution_count": 51,
   "metadata": {},
   "outputs": [
    {
     "name": "stdout",
     "output_type": "stream",
     "text": [
      "[[0. 0. 0. 0.]\n",
      " [0. 0. 0. 0.]\n",
      " [0. 0. 0. 0.]\n",
      " [0. 0. 0. 0.]]\n",
      "[[0. 0. 0. 0.]\n",
      " [0. 0. 0. 0.]\n",
      " [0. 0. 0. 0.]\n",
      " [0. 0. 0. 0.]]\n"
     ]
    }
   ],
   "source": [
    "# Lista para armazenar as matrizes de rigidez locais\n",
    "Matriz_Rigidez_Local = []\n",
    "\n",
    "# Loop para adicionar as matrizes de rigidez local à matriz de rigidez global\n",
    "for i in range(Num_Barras):\n",
    "    # Cria uma cópia da matriz de rigidez local\n",
    "    Matriz_Rigidez_Local_i = np.copy(Matriz_geral)\n",
    "    print(Matriz_Rigidez_Local_i[0:4, 0:4])\n",
    "    # Atualiza a submatriz correspondente da matriz de rigidez local na matriz de rigidez global\n",
    "    Matriz_Rigidez_Local_i[i *  2 : 4 + i * 2, i * 2 : 4 + i * 2] += Ke\n",
    "   \n",
    "    # Adiciona a matriz de rigidez local à lista\n",
    "    Matriz_Rigidez_Local.append(Matriz_Rigidez_Local_i)\n",
    "\n",
    "for lista in Matriz_Rigidez_Local:\n",
    "    Matriz_geral = Matriz_geral + lista\n",
    "\n",
    "Matriz_geral_completa = Matriz_geral"
   ]
  },
  {
   "cell_type": "code",
   "execution_count": 52,
   "metadata": {},
   "outputs": [
    {
     "name": "stdout",
     "output_type": "stream",
     "text": [
      "[0. 0. 0. 0. 0. 0.]\n",
      "[0. 0. 0. 0. 0. 0.]\n",
      "[     0.      0.   2880. 144000.  -2880. 144000.]\n",
      "[      0.       0.  144000. 9600000. -144000. 4800000.]\n",
      "[      0.       0.   -2880. -144000.    2880. -144000.]\n",
      "[      0.       0.  144000. 4800000. -144000. 9600000.]\n"
     ]
    }
   ],
   "source": [
    "for line in Matriz_Rigidez_Local[1]:\n",
    "    print(line)\n"
   ]
  },
  {
   "cell_type": "code",
   "execution_count": 53,
   "metadata": {},
   "outputs": [
    {
     "name": "stdout",
     "output_type": "stream",
     "text": [
      "[9600000. -144000. 4800000.       0.]\n",
      "[-144000.    5760.       0.  144000.]\n",
      "[ 4800000.        0. 19200000.  4800000.]\n",
      "[      0.  144000. 4800000. 9600000.]\n"
     ]
    }
   ],
   "source": [
    "Graus_de_Liberdade_Restringidos.sort(reverse=True) # invertendo para não remover termos errados\n",
    "\n",
    "Matriz_geral = np.array(Matriz_geral)\n",
    "Matriz_geral = np.delete(Matriz_geral, Graus_de_Liberdade_Restringidos, axis=0) # Removendo linha\n",
    "Matriz_geral = np.delete(Matriz_geral, Graus_de_Liberdade_Restringidos, axis=1) # Removendo coluna\n",
    "\n",
    "for lines in Matriz_geral: # Removido as linhas e colunas não necessárias\n",
    "    print(lines)"
   ]
  },
  {
   "cell_type": "code",
   "execution_count": 54,
   "metadata": {},
   "outputs": [],
   "source": [
    "Matriz_geral_invertida = np.linalg.inv(Matriz_geral) # K elevado a -1, inversão de matriz."
   ]
  },
  {
   "cell_type": "code",
   "execution_count": 55,
   "metadata": {},
   "outputs": [
    {
     "data": {
      "text/plain": [
       "[-0.0005208333333333332, -0.03472222222222222, 0.0, 0.0005208333333333332]"
      ]
     },
     "execution_count": 55,
     "metadata": {},
     "output_type": "execute_result"
    }
   ],
   "source": [
    "F = [0, 0, -P1, 0, 0, 0] # Remover via GDL da lista\n",
    "\n",
    "[F.pop(index) for index in sorted(Graus_de_Liberdade_Restringidos, reverse=True)]\n",
    "\n",
    "# Multiplicar cada linha da matriz pelo vetor\n",
    "Deslocamentos = [np.dot(linha, F) for linha in Matriz_geral_invertida]\n",
    "\n",
    "Deslocamentos"
   ]
  },
  {
   "cell_type": "code",
   "execution_count": 56,
   "metadata": {},
   "outputs": [
    {
     "data": {
      "text/plain": [
       "array([ 0.        , -0.00052083, -0.03472222,  0.        ,  0.        ,\n",
       "        0.00052083])"
      ]
     },
     "execution_count": 56,
     "metadata": {},
     "output_type": "execute_result"
    }
   ],
   "source": [
    "desloc_aux = np.zeros((Graus_Liberdade))\n",
    "\n",
    "idx = 0\n",
    "for index in range(Graus_Liberdade):\n",
    "    if index not in Graus_de_Liberdade_Restringidos:\n",
    "        desloc_aux[index] = Deslocamentos[idx]\n",
    "        idx += 1\n",
    "\n",
    "desloc_aux # Adicionados os graus de liberdade igual a zero para os outros cálculos"
   ]
  },
  {
   "cell_type": "code",
   "execution_count": 57,
   "metadata": {},
   "outputs": [
    {
     "data": {
      "text/plain": [
       "array([ 2.50000000e+01,  0.00000000e+00, -5.00000000e+01, -1.00364161e-13,\n",
       "        2.50000000e+01, -2.00728323e-13])"
      ]
     },
     "execution_count": 57,
     "metadata": {},
     "output_type": "execute_result"
    }
   ],
   "source": [
    "ReacoesApoio = np.array(Matriz_geral_completa) @ np.array(desloc_aux)\n",
    "ReacoesApoio"
   ]
  },
  {
   "cell_type": "code",
   "execution_count": 58,
   "metadata": {},
   "outputs": [
    {
     "name": "stdout",
     "output_type": "stream",
     "text": [
      "[  25.    0.  -25. 2500.]\n",
      "[-2.50000000e+01 -2.50000000e+03  2.50000000e+01 -2.00728323e-13]\n"
     ]
    }
   ],
   "source": [
    "vetor_final = []\n",
    "\n",
    "for i in range(Matriz_Rigidez_Local.__len__()):\n",
    "\n",
    "    inicio = i*2\n",
    "    fim = i * 2 + 4\n",
    "    vetor_resultado = np.array(Matriz_Rigidez_Local[i][inicio:fim]) @ np.array(desloc_aux)\n",
    "    print(vetor_resultado)\n",
    "\n",
    "    vetor_final.append(vetor_resultado[1])\n",
    "    vetor_final.append(vetor_resultado[3])\n",
    "\n",
    "#Filtrando valores repetidos\n",
    "valores_a_dropar = []\n",
    "for i in range(2, len(vetor_final), 2):\n",
    "    valores_a_dropar.append(i)\n",
    "\n",
    "\n",
    "vetor_filtrado = [vetor_final[i] for i in range(len(vetor_final)) if i not in valores_a_dropar]\n",
    "\n",
    "    "
   ]
  },
  {
   "cell_type": "code",
   "execution_count": 59,
   "metadata": {},
   "outputs": [
    {
     "data": {
      "image/png": "[encoded data removed]",
      "text/plain": [
       "<Figure size 1000x600 with 1 Axes>"
      ]
     },
     "metadata": {},
     "output_type": "display_data"
    }
   ],
   "source": [
    "x = np.arange(0, Numero_Nos, 1)\n",
    "\n",
    "# Criando o gráfico\n",
    "plt.figure(figsize=(10, 6))\n",
    "plt.plot(x, vetor_filtrado, marker='o', label='Deslocamentos')\n",
    "plt.fill_between(x, vetor_filtrado, color='skyblue', alpha=0.4)\n",
    "\n",
    "# Adicionando título e rótulos\n",
    "plt.title('Diagrama de Momento Fletor')\n",
    "plt.xlabel('Nó')\n",
    "plt.ylabel('kNcm')\n",
    "plt.gca().invert_yaxis()\n",
    "# Adicionando grade\n",
    "plt.grid(True)\n",
    "\n",
    "# Adicionando legenda\n",
    "plt.legend()\n",
    "\n",
    "# Exibindo o gráfico\n",
    "plt.show()"
   ]
  },
  {
   "cell_type": "code",
   "execution_count": 60,
   "metadata": {},
   "outputs": [
    {
     "data": {
      "image/png": "[encoded data removed]",
      "text/plain": [
       "<Figure size 1000x600 with 1 Axes>"
      ]
     },
     "metadata": {},
     "output_type": "display_data"
    }
   ],
   "source": [
    "deslocamentos_plot = []\n",
    "fletores = []\n",
    "for i in range(0, len(desloc_aux), 2):\n",
    "\n",
    "    deslocamentos_plot.append(desloc_aux[i])\n",
    "\n",
    "x = np.arange(0, Numero_Nos, 1)\n",
    "\n",
    "# Criando o gráfico\n",
    "plt.figure(figsize=(10, 6))\n",
    "plt.plot(x, deslocamentos_plot, marker='o', label='Deslocamentos')\n",
    "plt.fill_between(x, deslocamentos_plot, color='skyblue', alpha=0.4)\n",
    "\n",
    "# Adicionando título e rótulos\n",
    "plt.title('Deslocamento por Nó')\n",
    "plt.xlabel('Nó')\n",
    "plt.ylabel('Deslocamento')\n",
    "\n",
    "# Adicionando grade\n",
    "plt.grid(True)\n",
    "\n",
    "# Adicionando legenda\n",
    "plt.legend()\n",
    "\n",
    "# Exibindo o gráfico\n",
    "plt.show()"
   ]
  },
  {
   "cell_type": "markdown",
   "metadata": {},
   "source": [
    "DESAFIO: Fazer para elemento de barra"
   ]
  },
  {
   "cell_type": "code",
   "execution_count": 61,
   "metadata": {},
   "outputs": [
    {
     "name": "stdout",
     "output_type": "stream",
     "text": [
      "[[ 18000. -18000.]\n",
      " [-18000.  18000.]]\n"
     ]
    }
   ],
   "source": [
    "E = 3000 #kN/cmˆ2\n",
    "bw = 15 # cm\n",
    "h = 40 # cm\n",
    "I = bw*h**3/12# cmˆ4\n",
    "L = 100 # cm\n",
    "P = 50 #kN\n",
    "A = bw * h\n",
    "Graus_de_Liberdade_Restringidos = [0, 1] # Python começa no zero\n",
    "\n",
    "\n",
    "Ke = np.array([[E*A/L, -E*A/L],\n",
    "              [-E*A/L, E*A/L]])\n",
    "\n",
    "print(Ke)"
   ]
  },
  {
   "cell_type": "code",
   "execution_count": 62,
   "metadata": {},
   "outputs": [
    {
     "data": {
      "text/plain": [
       "array([[0., 0., 0.],\n",
       "       [0., 0., 0.],\n",
       "       [0., 0., 0.]])"
      ]
     },
     "execution_count": 62,
     "metadata": {},
     "output_type": "execute_result"
    }
   ],
   "source": [
    "#Número de nós é igual a 3 e o número de graus de liberdade é igual a 6\n",
    "Num_Barras = 2\n",
    "Numero_Nos = Num_Barras + 1 \n",
    "Graus_Liberdade = Numero_Nos  # Graus de liberdade, no caso é tensão axial apenas.\n",
    "\n",
    "# Matriz_geral = [] # Matriz principal onde vão ser adicionados os valores\n",
    "# for i in range(Graus_Liberdade): # Matriz quadrada\n",
    "#    Matriz_geral.append(np.zeros(Graus_Liberdade))\n",
    "\n",
    "Matriz_geral = np.zeros((Graus_Liberdade, Graus_Liberdade))\n",
    "\n",
    "Matriz_geral # Matriz de rigidez geral\n"
   ]
  },
  {
   "cell_type": "code",
   "execution_count": 63,
   "metadata": {},
   "outputs": [
    {
     "name": "stdout",
     "output_type": "stream",
     "text": [
      "[[0. 0. 0.]\n",
      " [0. 0. 0.]\n",
      " [0. 0. 0.]]\n",
      "[[0. 0. 0.]\n",
      " [0. 0. 0.]\n",
      " [0. 0. 0.]]\n"
     ]
    }
   ],
   "source": [
    "# Lista para armazenar as matrizes de rigidez locais\n",
    "Matriz_Rigidez_Local = []\n",
    "\n",
    "# Loop para adicionar as matrizes de rigidez local à matriz de rigidez global\n",
    "for i in range(Num_Barras):\n",
    "    # Cria uma cópia da matriz de rigidez local\n",
    "    Matriz_Rigidez_Local_i = np.copy(Matriz_geral)\n",
    "    print(Matriz_Rigidez_Local_i[0:3, 0:3])\n",
    "    # Atualiza a submatriz correspondente da matriz de rigidez local na matriz de rigidez global\n",
    "    Matriz_Rigidez_Local_i[i : 2 + i * 1, i * 1 : 2 + i * 1] += Ke\n",
    "   \n",
    "    # Adiciona a matriz de rigidez local à lista\n",
    "    Matriz_Rigidez_Local.append(Matriz_Rigidez_Local_i)\n",
    "\n",
    "for lista in Matriz_Rigidez_Local:\n",
    "    Matriz_geral = Matriz_geral + lista\n",
    "\n",
    "Matriz_geral_completa = Matriz_geral"
   ]
  },
  {
   "cell_type": "code",
   "execution_count": 64,
   "metadata": {},
   "outputs": [
    {
     "data": {
      "text/plain": [
       "array([[18000.]])"
      ]
     },
     "execution_count": 64,
     "metadata": {},
     "output_type": "execute_result"
    }
   ],
   "source": [
    "Graus_de_Liberdade_Restringidos.sort(reverse=True) # invertendo para não remover termos errados\n",
    "\n",
    "Matriz_geral = np.array(Matriz_geral)\n",
    "Matriz_geral = np.delete(Matriz_geral, Graus_de_Liberdade_Restringidos, axis=0) # Removendo linha\n",
    "Matriz_geral = np.delete(Matriz_geral, Graus_de_Liberdade_Restringidos, axis=1) # Removendo coluna\n",
    "\n",
    "Matriz_geral # Removido as linhas e colunas não necessárias"
   ]
  },
  {
   "cell_type": "code",
   "execution_count": 65,
   "metadata": {},
   "outputs": [
    {
     "data": {
      "text/plain": [
       "array([[5.55555556e-05]])"
      ]
     },
     "execution_count": 65,
     "metadata": {},
     "output_type": "execute_result"
    }
   ],
   "source": [
    "Matriz_geral_invertida = np.linalg.inv(Matriz_geral) # K elevado a -1, inversão de matriz.\n",
    "\n",
    "Matriz_geral_invertida"
   ]
  },
  {
   "cell_type": "code",
   "execution_count": 66,
   "metadata": {},
   "outputs": [
    {
     "data": {
      "text/plain": [
       "[0.0]"
      ]
     },
     "execution_count": 66,
     "metadata": {},
     "output_type": "execute_result"
    }
   ],
   "source": [
    "F = [0, -P, 0] # Remover via GDL da lista\n",
    "\n",
    "[F.pop(index) for index in sorted(Graus_de_Liberdade_Restringidos, reverse=True)]\n",
    "\n",
    "# Multiplicar cada linha da matriz pelo vetor\n",
    "Deslocamentos = [np.dot(linha, F) for linha in Matriz_geral_invertida]\n",
    "\n",
    "Deslocamentos"
   ]
  },
  {
   "cell_type": "code",
   "execution_count": 67,
   "metadata": {},
   "outputs": [
    {
     "data": {
      "text/plain": [
       "array([0., 0., 0.])"
      ]
     },
     "execution_count": 67,
     "metadata": {},
     "output_type": "execute_result"
    }
   ],
   "source": [
    "desloc_aux = np.zeros((Graus_Liberdade))\n",
    "\n",
    "idx = 0\n",
    "for index in range(Graus_Liberdade):\n",
    "    if index not in Graus_de_Liberdade_Restringidos:\n",
    "        desloc_aux[index] = Deslocamentos[idx]\n",
    "        idx += 1\n",
    "\n",
    "desloc_aux # Adicionados os graus de liberdade igual a zero para os outros cálculos"
   ]
  },
  {
   "cell_type": "code",
   "execution_count": 68,
   "metadata": {},
   "outputs": [
    {
     "data": {
      "text/plain": [
       "array([0., 0., 0.])"
      ]
     },
     "execution_count": 68,
     "metadata": {},
     "output_type": "execute_result"
    }
   ],
   "source": [
    "ReacoesApoio = np.array(Matriz_geral_completa) @ np.array(desloc_aux)\n",
    "ReacoesApoio"
   ]
  }
 ],
 "metadata": {
  "kernelspec": {
   "display_name": "Python 3",
   "language": "python",
   "name": "python3"
  },
  "language_info": {
   "codemirror_mode": {
    "name": "ipython",
    "version": 3
   },
   "file_extension": ".py",
   "mimetype": "text/x-python",
   "name": "python",
   "nbconvert_exporter": "python",
   "pygments_lexer": "ipython3",
   "version": "3.11.4"
  },
  "orig_nbformat": 4
 },
 "nbformat": 4,
 "nbformat_minor": 2
}
