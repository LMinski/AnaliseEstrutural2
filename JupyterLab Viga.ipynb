{
 "cells": [
  {
   "attachments": {},
   "cell_type": "markdown",
   "metadata": {},
   "source": [
    "# Método para solução de sistemas lineares do tipo \"Kd=F\""
   ]
  },
  {
   "cell_type": "markdown",
   "metadata": {},
   "source": [
    "## Solução de sistemas invertendo a Matriz K"
   ]
  },
  {
   "cell_type": "code",
   "execution_count": 8,
   "metadata": {},
   "outputs": [],
   "source": [
    "# Importar biblioteca\n",
    "from sympy import *\n",
    "import numpy as np\n",
    "#init_printing(use_unicode=True)"
   ]
  },
  {
   "cell_type": "code",
   "execution_count": 9,
   "metadata": {},
   "outputs": [],
   "source": [
    "# Declarar variáveis\n",
    "L, P, E, I  = symbols('L P E I')"
   ]
  },
  {
   "cell_type": "code",
   "execution_count": 10,
   "metadata": {},
   "outputs": [
    {
     "name": "stdout",
     "output_type": "stream",
     "text": [
      "O vetor reduzido de deslocamentos da estrutura é\n"
     ]
    },
    {
     "data": {
      "text/latex": [
       "$\\displaystyle \\left[\\begin{matrix}- \\frac{L^{2} P}{4 E I}\\\\- \\frac{L^{3} P}{6 E I}\\\\0\\\\\\frac{L^{2} P}{4 E I}\\end{matrix}\\right]$"
      ],
      "text/plain": [
       "Matrix([\n",
       "[-L**2*P/(4*E*I)],\n",
       "[-L**3*P/(6*E*I)],\n",
       "[              0],\n",
       "[ L**2*P/(4*E*I)]])"
      ]
     },
     "execution_count": 10,
     "metadata": {},
     "output_type": "execute_result"
    }
   ],
   "source": [
    "####################################\n",
    "\n",
    "#Cálculo de deslocamento\n",
    "\n",
    "####################################\n",
    "\n",
    "def calcular_desloc(K, F):\n",
    "    return K.inv()*F\n",
    "\n",
    "# Montar sistema a ser resolvido\n",
    "Kred = Matrix([[4*E*I/L,  -6*E*I/L**2  ,  2*E*I/L  ,  0],\n",
    "               [-6*E*I/L**2  ,  12*E*I/L**3 + 12*E*I/L**3  ,  0  ,  6*E*I/L**2],\n",
    "               [2*E*I/L  ,  0  ,  4*E*I/L + 4*E*I/L  ,  2*E*I/L],\n",
    "               [0  ,  6*E*I/L**2  ,  2*E*I/L  ,  4*E*I/L]])\n",
    "Fred = Matrix([[0],[-P],[0],[0] ])\n",
    "                                                                 \n",
    "deslocamentos_reduzido = calcular_desloc(K = Kred, F = Fred) # d = [thz1, v2, thz2, thz3]\n",
    "\n",
    "print(\"O vetor reduzido de deslocamentos da estrutura é\")\n",
    "calcular_desloc(K = Kred, F = Fred)"
   ]
  },
  {
   "cell_type": "code",
   "execution_count": 11,
   "metadata": {},
   "outputs": [
    {
     "name": "stdout",
     "output_type": "stream",
     "text": [
      "O vetor com as reações é:\n"
     ]
    },
    {
     "data": {
      "text/latex": [
       "$\\displaystyle \\left[\\begin{matrix}\\frac{P}{2}\\\\\\frac{P}{2}\\end{matrix}\\right]$"
      ],
      "text/plain": [
       "Matrix([\n",
       "[P/2],\n",
       "[P/2]])"
      ]
     },
     "execution_count": 11,
     "metadata": {},
     "output_type": "execute_result"
    }
   ],
   "source": [
    "####################################\n",
    "\n",
    "#Cálculo de reações de apoio\n",
    "\n",
    "####################################\n",
    "\n",
    "def reacoes_apoio(K, D):\n",
    "    return K*D\n",
    "\n",
    "Kred2 = Matrix([[6*E*I/L**2,-12*E*I/L**3, 6*E*I/L**2,0],\n",
    "                [0,-12*E*I/L**3,-6*E*I/L**2, -6*E*I/L**2]])\n",
    "\n",
    "ReacoesApoio = reacoes_apoio(K= Kred2, D=deslocamentos_reduzido)\n",
    "\n",
    "print('O vetor com as reações é:')\n",
    "\n",
    "reacoes_apoio(K= Kred2, D=deslocamentos_reduzido)"
   ]
  },
  {
   "cell_type": "markdown",
   "metadata": {},
   "source": [
    "Cálculo das Reações de apoio"
   ]
  },
  {
   "cell_type": "code",
   "execution_count": 12,
   "metadata": {},
   "outputs": [
    {
     "name": "stdout",
     "output_type": "stream",
     "text": [
      "O vetor com as reações é:\n"
     ]
    },
    {
     "data": {
      "text/latex": [
       "$\\displaystyle \\left[\\begin{matrix}\\frac{P}{2}\\\\\\frac{P}{2}\\end{matrix}\\right]$"
      ],
      "text/plain": [
       "Matrix([\n",
       "[P/2],\n",
       "[P/2]])"
      ]
     },
     "execution_count": 12,
     "metadata": {},
     "output_type": "execute_result"
    }
   ],
   "source": [
    "Kred2 = Matrix([[6*E*I/L**2,-12*E*I/L**3, 6*E*I/L**2,0],\n",
    "                [0,-12*E*I/L**3,-6*E*I/L**2, -6*E*I/L**2]])\n",
    "dred = (Kred.inv()*Fred) # d = [thz1  v2 thz2  thz3]\n",
    "print('O vetor com as reações é:')\n",
    "Kred2*dred"
   ]
  },
  {
   "cell_type": "markdown",
   "metadata": {},
   "source": [
    "Cálculo dos esforços"
   ]
  },
  {
   "cell_type": "code",
   "execution_count": 13,
   "metadata": {},
   "outputs": [
    {
     "name": "stdout",
     "output_type": "stream",
     "text": [
      "O vetor de deslocamentos do elemento 1 é:\n"
     ]
    },
    {
     "data": {
      "text/latex": [
       "$\\displaystyle \\left[\\begin{matrix}0\\\\- \\frac{L^{2} P}{4 E I}\\\\- \\frac{L^{3} P}{6 E I}\\\\0\\end{matrix}\\right]$"
      ],
      "text/plain": [
       "Matrix([\n",
       "[              0],\n",
       "[-L**2*P/(4*E*I)],\n",
       "[-L**3*P/(6*E*I)],\n",
       "[              0]])"
      ]
     },
     "execution_count": 13,
     "metadata": {},
     "output_type": "execute_result"
    }
   ],
   "source": [
    "####################################\n",
    "\n",
    "#Cálculo dos esforços\n",
    "\n",
    "####################################\n",
    "\n",
    "\n",
    "# Elemento 1\n",
    "ke1=Matrix([[12*E*I/L**3, 6*E*I/L**2,-12*E*I/L**3, 6*E*I/L**2],\n",
    "           [6*E*I/L**2, 4*E*I/L, -6*E*I/L**2, 2*E*I/L],\n",
    "          [-12*E*I/L**3, -6*E*I/L**2,12*E*I/L**3, -6*E*I/L**2],\n",
    "          [6*E*I/L**2, 2*E*I/L, -6*E*I/L**2, 4*E*I/L]])\n",
    "de1=zeros(ke1.shape[0],1) # de = [v1  thz1  v2  thz2]\n",
    "de1[1,0]=dred[0,0]\n",
    "de1[2,0]=dred[1,0]\n",
    "de1[3,0]=dred[2,0]\n",
    "print('O vetor de deslocamentos do elemento 1 é:')\n",
    "de1"
   ]
  },
  {
   "cell_type": "code",
   "execution_count": 14,
   "metadata": {},
   "outputs": [
    {
     "name": "stdout",
     "output_type": "stream",
     "text": [
      "O vetor de esforços do elemento 1 é:\n"
     ]
    },
    {
     "data": {
      "text/latex": [
       "$\\displaystyle \\left[\\begin{matrix}\\frac{P}{2}\\\\0\\\\- \\frac{P}{2}\\\\\\frac{L P}{2}\\end{matrix}\\right]$"
      ],
      "text/plain": [
       "Matrix([\n",
       "[  P/2],\n",
       "[    0],\n",
       "[ -P/2],\n",
       "[L*P/2]])"
      ]
     },
     "execution_count": 14,
     "metadata": {},
     "output_type": "execute_result"
    }
   ],
   "source": [
    "# Vetor de esforços  internos do elemento 1\n",
    "print('O vetor de esforços do elemento 1 é:')\n",
    "ke1*de1"
   ]
  },
  {
   "cell_type": "code",
   "execution_count": 15,
   "metadata": {},
   "outputs": [
    {
     "name": "stdout",
     "output_type": "stream",
     "text": [
      "Matrix([[-L**2*P/(4*E*I)], [-L**3*P/(6*E*I)], [0], [L**2*P/(4*E*I)]])\n",
      "O vetor de deslocamentos do elemento 2 é:\n"
     ]
    },
    {
     "data": {
      "text/latex": [
       "$\\displaystyle \\left[\\begin{matrix}- \\frac{L^{3} P}{6 E I}\\\\0\\\\0\\\\\\frac{L^{2} P}{4 E I}\\end{matrix}\\right]$"
      ],
      "text/plain": [
       "Matrix([\n",
       "[-L**3*P/(6*E*I)],\n",
       "[              0],\n",
       "[              0],\n",
       "[ L**2*P/(4*E*I)]])"
      ]
     },
     "execution_count": 15,
     "metadata": {},
     "output_type": "execute_result"
    }
   ],
   "source": [
    "# Elemento 2: (tarefa)\n",
    "ke2=Matrix([[12*E*I/L**3, 6*E*I/L**2,-12*E*I/L**3, 6*E*I/L**2],\n",
    "           [6*E*I/L**2, 4*E*I/L, -6*E*I/L**2, 2*E*I/L],\n",
    "           [-12*E*I/L**3, -6*E*I/L**2,12*E*I/L**3, -6*E*I/L**2],\n",
    "           [6*E*I/L**2, 2*E*I/L, -6*E*I/L**2, 4*E*I/L]])\n",
    "de2=zeros(4,1) # de = [v2  thz2  v3  thz3]\n",
    "de2[0,0]=dred[1,0]\n",
    "de2[1,0]=dred[2,0]\n",
    "de2[3,0]=dred[3,0]\n",
    "print(dred)\n",
    "print('O vetor de deslocamentos do elemento 2 é:')\n",
    "de2"
   ]
  },
  {
   "cell_type": "code",
   "execution_count": 16,
   "metadata": {},
   "outputs": [
    {
     "name": "stdout",
     "output_type": "stream",
     "text": [
      "O vetor de esforços do elemento 2 é:\n"
     ]
    },
    {
     "data": {
      "text/latex": [
       "$\\displaystyle \\left[\\begin{matrix}- \\frac{P}{2}\\\\- \\frac{L P}{2}\\\\\\frac{P}{2}\\\\0\\end{matrix}\\right]$"
      ],
      "text/plain": [
       "Matrix([\n",
       "[  -P/2],\n",
       "[-L*P/2],\n",
       "[   P/2],\n",
       "[     0]])"
      ]
     },
     "execution_count": 16,
     "metadata": {},
     "output_type": "execute_result"
    }
   ],
   "source": [
    "# Vetor de esforços  internos do elemento 2\n",
    "print('O vetor de esforços do elemento 2 é:')\n",
    "ke2*de2"
   ]
  },
  {
   "cell_type": "code",
   "execution_count": 17,
   "metadata": {},
   "outputs": [
    {
     "data": {
      "text/plain": [
       "True"
      ]
     },
     "execution_count": 17,
     "metadata": {},
     "output_type": "execute_result"
    }
   ],
   "source": [
    "# Conferindo:\n",
    "F = Matrix([[P/2], [0], [-P], [0], [P/2], [0]])\n",
    "F2 = zeros(6,1)\n",
    "F2[0:4,0] = ke1*de1\n",
    "F2[2:,0] = F2[2:,0] + ke2*de2\n",
    "F==F2"
   ]
  },
  {
   "cell_type": "code",
   "execution_count": 18,
   "metadata": {},
   "outputs": [
    {
     "data": {
      "text/latex": [
       "$\\displaystyle \\left[\\begin{matrix}\\frac{P}{2}\\\\0\\\\- P\\\\0\\\\\\frac{P}{2}\\\\0\\end{matrix}\\right]$"
      ],
      "text/plain": [
       "Matrix([\n",
       "[P/2],\n",
       "[  0],\n",
       "[ -P],\n",
       "[  0],\n",
       "[P/2],\n",
       "[  0]])"
      ]
     },
     "execution_count": 18,
     "metadata": {},
     "output_type": "execute_result"
    }
   ],
   "source": [
    "F\n"
   ]
  },
  {
   "cell_type": "code",
   "execution_count": 19,
   "metadata": {},
   "outputs": [
    {
     "data": {
      "text/latex": [
       "$\\displaystyle \\left[\\begin{matrix}0\\\\- \\frac{L^{2} P}{4 E I}\\\\- \\frac{L^{3} P}{6 E I}\\\\0\\\\0\\\\\\frac{L^{2} P}{4 E I}\\end{matrix}\\right]$"
      ],
      "text/plain": [
       "Matrix([\n",
       "[              0],\n",
       "[-L**2*P/(4*E*I)],\n",
       "[-L**3*P/(6*E*I)],\n",
       "[              0],\n",
       "[              0],\n",
       "[ L**2*P/(4*E*I)]])"
      ]
     },
     "execution_count": 19,
     "metadata": {},
     "output_type": "execute_result"
    }
   ],
   "source": [
    "d = zeros(6,1)\n",
    "d[:4,0] = de1\n",
    "d[2:,0] = de2\n",
    "d"
   ]
  },
  {
   "cell_type": "code",
   "execution_count": 20,
   "metadata": {},
   "outputs": [
    {
     "data": {
      "text/latex": [
       "$\\displaystyle \\left[\\begin{matrix}\\frac{12 E I}{L^{3}} & \\frac{6 E I}{L^{2}} & - \\frac{12 E I}{L^{3}} & \\frac{6 E I}{L^{2}} & 0 & 0\\\\\\frac{6 E I}{L^{2}} & \\frac{4 E I}{L} & - \\frac{6 E I}{L^{2}} & \\frac{2 E I}{L} & 0 & 0\\\\- \\frac{12 E I}{L^{3}} & - \\frac{6 E I}{L^{2}} & \\frac{24 E I}{L^{3}} & 0 & - \\frac{12 E I}{L^{3}} & \\frac{6 E I}{L^{2}}\\\\\\frac{6 E I}{L^{2}} & \\frac{2 E I}{L} & 0 & \\frac{8 E I}{L} & - \\frac{6 E I}{L^{2}} & \\frac{2 E I}{L}\\\\0 & 0 & - \\frac{12 E I}{L^{3}} & - \\frac{6 E I}{L^{2}} & \\frac{12 E I}{L^{3}} & - \\frac{6 E I}{L^{2}}\\\\0 & 0 & \\frac{6 E I}{L^{2}} & \\frac{2 E I}{L} & - \\frac{6 E I}{L^{2}} & \\frac{4 E I}{L}\\end{matrix}\\right]$"
      ],
      "text/plain": [
       "Matrix([\n",
       "[ 12*E*I/L**3,  6*E*I/L**2, -12*E*I/L**3,  6*E*I/L**2,            0,           0],\n",
       "[  6*E*I/L**2,     4*E*I/L,  -6*E*I/L**2,     2*E*I/L,            0,           0],\n",
       "[-12*E*I/L**3, -6*E*I/L**2,  24*E*I/L**3,           0, -12*E*I/L**3,  6*E*I/L**2],\n",
       "[  6*E*I/L**2,     2*E*I/L,            0,     8*E*I/L,  -6*E*I/L**2,     2*E*I/L],\n",
       "[           0,           0, -12*E*I/L**3, -6*E*I/L**2,  12*E*I/L**3, -6*E*I/L**2],\n",
       "[           0,           0,   6*E*I/L**2,     2*E*I/L,  -6*E*I/L**2,     4*E*I/L]])"
      ]
     },
     "execution_count": 20,
     "metadata": {},
     "output_type": "execute_result"
    }
   ],
   "source": [
    "K = zeros(6,6)\n",
    "K[:4,:4] = ke1\n",
    "K[2:,2:] = K[2:,2:] + ke2\n",
    "K"
   ]
  }
 ],
 "metadata": {
  "kernelspec": {
   "display_name": "Python 3",
   "language": "python",
   "name": "python3"
  },
  "language_info": {
   "codemirror_mode": {
    "name": "ipython",
    "version": 3
   },
   "file_extension": ".py",
   "mimetype": "text/x-python",
   "name": "python",
   "nbconvert_exporter": "python",
   "pygments_lexer": "ipython3",
   "version": "3.11.4"
  }
 },
 "nbformat": 4,
 "nbformat_minor": 4
}
