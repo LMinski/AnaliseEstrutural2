{
 "cells": [
  {
   "attachments": {},
   "cell_type": "markdown",
   "metadata": {},
   "source": [
    "# Método para solução de sistemas lineares do tipo \"Kd=F\"\n",
    "\n",
    "## Solução de sistemas invertendo a Matriz K\n",
    "\n",
    "### Feito por: Leonardo Minski"
   ]
  },
  {
   "cell_type": "code",
   "execution_count": 18,
   "metadata": {},
   "outputs": [],
   "source": [
    "import numpy as np\n"
   ]
  },
  {
   "cell_type": "code",
   "execution_count": 19,
   "metadata": {},
   "outputs": [
    {
     "name": "stdout",
     "output_type": "stream",
     "text": [
      "[[ 2.88e+03  1.44e+05 -2.88e+03  1.44e+05]\n",
      " [ 1.44e+05  9.60e+06 -1.44e+05  4.80e+06]\n",
      " [-2.88e+03 -1.44e+05  2.88e+03 -1.44e+05]\n",
      " [ 1.44e+05  4.80e+06 -1.44e+05  9.60e+06]]\n"
     ]
    }
   ],
   "source": [
    "E = 3000 #kN/cmˆ2\n",
    "bw = 15 # cm\n",
    "h = 40 # cm\n",
    "I = bw*h**3/12# cmˆ4\n",
    "L = 100 # cm\n",
    "P = 50 #kN\n",
    "\n",
    "Ke = np.array([[12*E*I/L**3, 6*E*I/L**2, -12*E*I/L**3, 6*E*I/L**2],\n",
    "      [6*E*I/L**2,  4*E*I/L,    -6*E*I/L**2,  2*E*I/L],\n",
    "      [-12*E*I/L**3, -6*E*I/L**2, 12*E*I/L**3, -6*E*I/L**2],\n",
    "      [6*E*I/L**2, 2*E*I/L, -6*E*I/L**2, 4*E*I/L]])\n",
    "\n",
    "print(Ke)"
   ]
  },
  {
   "cell_type": "code",
   "execution_count": 20,
   "metadata": {},
   "outputs": [
    {
     "data": {
      "text/plain": [
       "[array([0., 0., 0., 0., 0., 0.]),\n",
       " array([0., 0., 0., 0., 0., 0.]),\n",
       " array([0., 0., 0., 0., 0., 0.]),\n",
       " array([0., 0., 0., 0., 0., 0.]),\n",
       " array([0., 0., 0., 0., 0., 0.]),\n",
       " array([0., 0., 0., 0., 0., 0.])]"
      ]
     },
     "execution_count": 20,
     "metadata": {},
     "output_type": "execute_result"
    }
   ],
   "source": [
    "#Número de nós é igual a 3 e o número de graus de liberdade é igual a 6\n",
    "Num_Barras = 2\n",
    "Numero_Nos = Num_Barras + 1 \n",
    "Graus_Liberdade = Num_Barras * 2 + 2 # Graus de liberdade, no caso é deslocamento, rotação, deslocamento, rotação e assim por diante...\n",
    "Matriz_geral = [] # Matriz principal onde vão ser adicionados os valores\n",
    "for i in range(Graus_Liberdade): # Matriz quadrada\n",
    "    Matriz_geral.append(np.zeros(Graus_Liberdade))\n",
    "\n",
    "Matriz_geral # Matriz de rigidez geral"
   ]
  },
  {
   "cell_type": "code",
   "execution_count": 21,
   "metadata": {},
   "outputs": [
    {
     "data": {
      "text/plain": [
       "[array([  2880., 144000.,  -2880., 144000.,      0.,      0.]),\n",
       " array([ 144000., 9600000., -144000., 4800000.,       0.,       0.]),\n",
       " array([  -2880., -144000.,    5760.,       0.,   -2880.,  144000.]),\n",
       " array([  144000.,  4800000.,        0., 19200000.,  -144000.,  4800000.]),\n",
       " array([      0.,       0.,   -2880., -144000.,    2880., -144000.]),\n",
       " array([      0.,       0.,  144000., 4800000., -144000., 9600000.])]"
      ]
     },
     "execution_count": 21,
     "metadata": {},
     "output_type": "execute_result"
    }
   ],
   "source": [
    "#Verificar quantidade de barras\n",
    "#Somar na matriz os termos considerando o termo inicial + 3 termos a direita na linha atual, depois + 3 linhas para baixo a partir do i e do j atual\n",
    "for termo_inicial in range(0, Num_Barras * 2, 2):\n",
    "    for coluna in range(4):\n",
    "        coluna_matriz_global = termo_inicial + coluna\n",
    "        for linha in range(4): \n",
    "           Matriz_geral[coluna_matriz_global][termo_inicial+linha] += Ke[coluna][linha]\n",
    "\n",
    "Matriz_geral # Matriz de rigidez geral a partir do número de barras, se alterar o numero de barras na célula acima, é possível ver como que ela fica com maiores números de barras."
   ]
  },
  {
   "cell_type": "code",
   "execution_count": 22,
   "metadata": {},
   "outputs": [],
   "source": [
    "# Como sabemos que é uma viga biapoiada e os deslocamentos nos apoios são iguais a zero, o nosso vetor de deslocamentos é algo assim:\n",
    "\n",
    "#Como não temos uma interface para identificar os apoios, temos que definir em uma matriz, como sabemos que é uma viga biapoiada com duas barras, é pra ser algo assim:\n",
    "\n",
    "Deslocamento_Desconhecido = None\n",
    "Vetor_Deslocamentos = [0,\n",
    "                      Deslocamento_Desconhecido,\n",
    "                      Deslocamento_Desconhecido,\n",
    "                      Deslocamento_Desconhecido,\n",
    "                      0,\n",
    "                      Deslocamento_Desconhecido]"
   ]
  },
  {
   "cell_type": "code",
   "execution_count": 23,
   "metadata": {},
   "outputs": [
    {
     "data": {
      "text/plain": [
       "array([[ 9.60e+06, -1.44e+05,  4.80e+06,  0.00e+00],\n",
       "       [-1.44e+05,  5.76e+03,  0.00e+00,  1.44e+05],\n",
       "       [ 4.80e+06,  0.00e+00,  1.92e+07,  4.80e+06],\n",
       "       [ 0.00e+00,  1.44e+05,  4.80e+06,  9.60e+06]])"
      ]
     },
     "execution_count": 23,
     "metadata": {},
     "output_type": "execute_result"
    }
   ],
   "source": [
    "indices_remover = []  # Vamos armazenar os índices dos termos a serem removidos\n",
    "\n",
    "# Encontrar os índices dos termos iguais a zero\n",
    "for i, termo in enumerate(Vetor_Deslocamentos):\n",
    "    if termo == 0:\n",
    "        indices_remover.append(i)\n",
    "\n",
    "indices_remover.sort(reverse=True) # invertendo para não remover termos errados\n",
    "\n",
    "Matriz_geral = np.array(Matriz_geral)\n",
    "Matriz_geral = np.delete(Matriz_geral, indices_remover, axis=0) # Removendo linha\n",
    "Matriz_geral = np.delete(Matriz_geral, indices_remover, axis=1) # Removendo coluna\n",
    "\n",
    "Matriz_geral"
   ]
  },
  {
   "cell_type": "code",
   "execution_count": 24,
   "metadata": {},
   "outputs": [
    {
     "data": {
      "text/plain": [
       "array([[ 2.77777778e-07,  1.04166667e-05, -3.47222222e-08,\n",
       "        -1.38888889e-07],\n",
       "       [ 1.04166667e-05,  6.94444444e-04,  0.00000000e+00,\n",
       "        -1.04166667e-05],\n",
       "       [-3.47222222e-08,  0.00000000e+00,  6.94444444e-08,\n",
       "        -3.47222222e-08],\n",
       "       [-1.38888889e-07, -1.04166667e-05, -3.47222222e-08,\n",
       "         2.77777778e-07]])"
      ]
     },
     "execution_count": 24,
     "metadata": {},
     "output_type": "execute_result"
    }
   ],
   "source": [
    "Matriz_geral_invertida = np.linalg.inv(Matriz_geral) # K elevado a -1, inversão de matriz.\n",
    "\n",
    "Matriz_geral_invertida"
   ]
  },
  {
   "cell_type": "code",
   "execution_count": 25,
   "metadata": {},
   "outputs": [
    {
     "data": {
      "text/plain": [
       "[-0.0005208333333333332, -0.03472222222222222, 0.0, 0.0005208333333333332]"
      ]
     },
     "execution_count": 25,
     "metadata": {},
     "output_type": "execute_result"
    }
   ],
   "source": [
    "F = [0, -50, 0, 0]\n",
    "\n",
    "# Multiplicar cada linha da matriz pelo vetor\n",
    "Deslocamentos = [np.dot(linha, F) for linha in Matriz_geral_invertida]\n",
    "\n",
    "Deslocamentos"
   ]
  }
 ],
 "metadata": {
  "kernelspec": {
   "display_name": "Python 3",
   "language": "python",
   "name": "python3"
  },
  "language_info": {
   "codemirror_mode": {
    "name": "ipython",
    "version": 3
   },
   "file_extension": ".py",
   "mimetype": "text/x-python",
   "name": "python",
   "nbconvert_exporter": "python",
   "pygments_lexer": "ipython3",
   "version": "3.11.4"
  },
  "orig_nbformat": 4
 },
 "nbformat": 4,
 "nbformat_minor": 2
}
