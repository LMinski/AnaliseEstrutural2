{
 "cells": [
  {
   "attachments": {},
   "cell_type": "markdown",
   "metadata": {},
   "source": [
    "# Método para solução de sistemas lineares do tipo \"Kd=F\"\n",
    "\n",
    "## Solução de sistemas invertendo a Matriz K\n",
    "\n",
    "### Feito por: Leonardo Minski"
   ]
  },
  {
   "cell_type": "code",
   "execution_count": 721,
   "metadata": {},
   "outputs": [],
   "source": [
    "import numpy as np\n",
    "from IPython.display import display, Math, HTML\n"
   ]
  },
  {
   "cell_type": "code",
   "execution_count": 722,
   "metadata": {},
   "outputs": [
    {
     "name": "stdout",
     "output_type": "stream",
     "text": [
      "[[ 2.88e+03  1.44e+05 -2.88e+03  1.44e+05]\n",
      " [ 1.44e+05  9.60e+06 -1.44e+05  4.80e+06]\n",
      " [-2.88e+03 -1.44e+05  2.88e+03 -1.44e+05]\n",
      " [ 1.44e+05  4.80e+06 -1.44e+05  9.60e+06]]\n"
     ]
    }
   ],
   "source": [
    "E = 3000 #kN/cmˆ2\n",
    "bw = 15 # cm\n",
    "h = 40 # cm\n",
    "I = bw*h**3/12# cmˆ4\n",
    "L = 100 # cm\n",
    "P = 50 #kN\n",
    "\n",
    "Graus_de_Liberdade_Restringidos = [0,4] # Python começa no zero\n",
    "\n",
    "\n",
    "Ke = np.array([[12*E*I/L**3, 6*E*I/L**2, -12*E*I/L**3, 6*E*I/L**2],\n",
    "      [6*E*I/L**2,  4*E*I/L,    -6*E*I/L**2,  2*E*I/L],\n",
    "      [-12*E*I/L**3, -6*E*I/L**2, 12*E*I/L**3, -6*E*I/L**2],\n",
    "      [6*E*I/L**2, 2*E*I/L, -6*E*I/L**2, 4*E*I/L]])\n",
    "\n",
    "print(Ke)"
   ]
  },
  {
   "cell_type": "code",
   "execution_count": 723,
   "metadata": {},
   "outputs": [
    {
     "data": {
      "text/plain": [
       "array([[0., 0., 0., 0., 0., 0.],\n",
       "       [0., 0., 0., 0., 0., 0.],\n",
       "       [0., 0., 0., 0., 0., 0.],\n",
       "       [0., 0., 0., 0., 0., 0.],\n",
       "       [0., 0., 0., 0., 0., 0.],\n",
       "       [0., 0., 0., 0., 0., 0.]])"
      ]
     },
     "execution_count": 723,
     "metadata": {},
     "output_type": "execute_result"
    }
   ],
   "source": [
    "#Número de nós é igual a 3 e o número de graus de liberdade é igual a 6\n",
    "Num_Barras = 2\n",
    "Numero_Nos = Num_Barras + 1 \n",
    "Graus_Liberdade = Numero_Nos * 2 # Graus de liberdade, no caso é deslocamento, rotação, deslocamento, rotação e assim por diante...\n",
    "\n",
    "# Matriz_geral = [] # Matriz principal onde vão ser adicionados os valores\n",
    "# for i in range(Graus_Liberdade): # Matriz quadrada\n",
    "#    Matriz_geral.append(np.zeros(Graus_Liberdade))\n",
    "\n",
    "Matriz_geral = np.zeros((Graus_Liberdade, Graus_Liberdade))\n",
    "\n",
    "Matriz_geral # Matriz de rigidez geral\n"
   ]
  },
  {
   "cell_type": "code",
   "execution_count": 724,
   "metadata": {},
   "outputs": [],
   "source": [
    "# Lista para armazenar as matrizes de rigidez locais\n",
    "Matriz_Rigidez_Local = []\n",
    "\n",
    "# Loop para adicionar as matrizes de rigidez local à matriz de rigidez global\n",
    "for i in range(Num_Barras):\n",
    "    # Cria uma cópia da matriz de rigidez local\n",
    "    Matriz_Rigidez_Local_i = np.copy(Matriz_geral)\n",
    "    \n",
    "    # Atualiza a submatriz correspondente da matriz de rigidez local na matriz de rigidez global\n",
    "    Matriz_Rigidez_Local_i[i *  2 : 4 + i * 2, i * 2 : 4 + i * 2] += Ke\n",
    "    \n",
    "    # Adiciona a matriz de rigidez local à lista\n",
    "    Matriz_Rigidez_Local.append(Matriz_Rigidez_Local_i)\n",
    "\n",
    "for lista in Matriz_Rigidez_Local:\n",
    "    Matriz_geral = Matriz_geral + lista\n",
    "\n",
    "Matriz_geral_completa = Matriz_geral"
   ]
  },
  {
   "cell_type": "code",
   "execution_count": 731,
   "metadata": {},
   "outputs": [
    {
     "data": {
      "text/plain": [
       "array([[ 2.88e+03,  1.44e+05, -2.88e+03,  1.44e+05,  0.00e+00,  0.00e+00],\n",
       "       [ 1.44e+05,  9.60e+06, -1.44e+05,  4.80e+06,  0.00e+00,  0.00e+00],\n",
       "       [-2.88e+03, -1.44e+05,  5.76e+03,  0.00e+00, -2.88e+03,  1.44e+05],\n",
       "       [ 1.44e+05,  4.80e+06,  0.00e+00,  1.92e+07, -1.44e+05,  4.80e+06],\n",
       "       [ 0.00e+00,  0.00e+00, -2.88e+03, -1.44e+05,  2.88e+03, -1.44e+05],\n",
       "       [ 0.00e+00,  0.00e+00,  1.44e+05,  4.80e+06, -1.44e+05,  9.60e+06]])"
      ]
     },
     "execution_count": 731,
     "metadata": {},
     "output_type": "execute_result"
    }
   ],
   "source": [
    "Matriz_geral_completa"
   ]
  },
  {
   "cell_type": "code",
   "execution_count": 725,
   "metadata": {},
   "outputs": [
    {
     "data": {
      "text/plain": [
       "array([[ 9.60e+06, -1.44e+05,  4.80e+06,  0.00e+00],\n",
       "       [-1.44e+05,  5.76e+03,  0.00e+00,  1.44e+05],\n",
       "       [ 4.80e+06,  0.00e+00,  1.92e+07,  4.80e+06],\n",
       "       [ 0.00e+00,  1.44e+05,  4.80e+06,  9.60e+06]])"
      ]
     },
     "execution_count": 725,
     "metadata": {},
     "output_type": "execute_result"
    }
   ],
   "source": [
    "Graus_de_Liberdade_Restringidos.sort(reverse=True) # invertendo para não remover termos errados\n",
    "\n",
    "Matriz_geral = np.array(Matriz_geral)\n",
    "Matriz_geral = np.delete(Matriz_geral, Graus_de_Liberdade_Restringidos, axis=0) # Removendo linha\n",
    "Matriz_geral = np.delete(Matriz_geral, Graus_de_Liberdade_Restringidos, axis=1) # Removendo coluna\n",
    "\n",
    "Matriz_geral # Removido as linhas e colunas não necessárias"
   ]
  },
  {
   "cell_type": "code",
   "execution_count": 726,
   "metadata": {},
   "outputs": [
    {
     "data": {
      "text/plain": [
       "array([[ 2.77777778e-07,  1.04166667e-05, -3.47222222e-08,\n",
       "        -1.38888889e-07],\n",
       "       [ 1.04166667e-05,  6.94444444e-04,  0.00000000e+00,\n",
       "        -1.04166667e-05],\n",
       "       [-3.47222222e-08,  0.00000000e+00,  6.94444444e-08,\n",
       "        -3.47222222e-08],\n",
       "       [-1.38888889e-07, -1.04166667e-05, -3.47222222e-08,\n",
       "         2.77777778e-07]])"
      ]
     },
     "execution_count": 726,
     "metadata": {},
     "output_type": "execute_result"
    }
   ],
   "source": [
    "Matriz_geral_invertida = np.linalg.inv(Matriz_geral) # K elevado a -1, inversão de matriz.\n",
    "\n",
    "Matriz_geral_invertida"
   ]
  },
  {
   "cell_type": "code",
   "execution_count": 727,
   "metadata": {},
   "outputs": [
    {
     "data": {
      "text/plain": [
       "[-0.0005208333333333332, -0.03472222222222222, 0.0, 0.0005208333333333332]"
      ]
     },
     "execution_count": 727,
     "metadata": {},
     "output_type": "execute_result"
    }
   ],
   "source": [
    "F = [0, 0, -P, 0, 0, 0] # Remover via GDL da lista\n",
    "\n",
    "[F.pop(index) for index in sorted(Graus_de_Liberdade_Restringidos, reverse=True)]\n",
    "\n",
    "\n",
    "# Multiplicar cada linha da matriz pelo vetor\n",
    "Deslocamentos = [np.dot(linha, F) for linha in Matriz_geral_invertida]\n",
    "\n",
    "Deslocamentos"
   ]
  },
  {
   "cell_type": "code",
   "execution_count": 728,
   "metadata": {},
   "outputs": [
    {
     "data": {
      "text/plain": [
       "array([ 0.        , -0.00052083, -0.03472222,  0.        ,  0.        ,\n",
       "        0.00052083])"
      ]
     },
     "execution_count": 728,
     "metadata": {},
     "output_type": "execute_result"
    }
   ],
   "source": [
    "desloc_aux = np.zeros((Graus_Liberdade))\n",
    "\n",
    "idx = 0\n",
    "for index in range(Graus_Liberdade):\n",
    "    if index not in Graus_de_Liberdade_Restringidos:\n",
    "        desloc_aux[index] = Deslocamentos[idx]\n",
    "        idx += 1\n",
    "\n",
    "desloc_aux # Adicionados os graus de liberdade igual a zero para os outros cálculos"
   ]
  },
  {
   "cell_type": "code",
   "execution_count": 729,
   "metadata": {},
   "outputs": [
    {
     "data": {
      "text/plain": [
       "array([ 2.50000000e+01,  0.00000000e+00, -5.00000000e+01, -1.00364161e-13,\n",
       "        2.50000000e+01, -2.00728323e-13])"
      ]
     },
     "execution_count": 729,
     "metadata": {},
     "output_type": "execute_result"
    }
   ],
   "source": [
    "ReacoesApoio = np.array(Matriz_geral_completa) @ np.array(desloc_aux)\n",
    "ReacoesApoio"
   ]
  },
  {
   "cell_type": "code",
   "execution_count": 730,
   "metadata": {},
   "outputs": [
    {
     "name": "stdout",
     "output_type": "stream",
     "text": [
      "[  25.    0.  -25. 2500.]\n",
      "[-2.50000000e+01 -2.50000000e+03  2.50000000e+01 -2.00728323e-13]\n"
     ]
    }
   ],
   "source": [
    "Cortante_i = []\n",
    "Momento_i = []\n",
    "\n",
    "Cortante_j = []\n",
    "Momento_j = []\n",
    "\n",
    "for i in range(Matriz_Rigidez_Local.__len__()):\n",
    "    inicio = i*2\n",
    "    fim = i * 2 + 4\n",
    "    vetor_resultado = np.array(Matriz_Rigidez_Local[i][inicio:fim]) @ np.array(desloc_aux)\n",
    "    print(vetor_resultado)\n",
    "    #Cortante_i.append(vetor_resultado[0])\n",
    "    #Momento_i.append(vetor_resultado[1])\n",
    "    #Cortante_j.append(vetor_resultado[2])\n",
    "    #Momento_j.append(vetor_resultado[3])\n",
    "\n"
   ]
  }
 ],
 "metadata": {
  "kernelspec": {
   "display_name": "Python 3",
   "language": "python",
   "name": "python3"
  },
  "language_info": {
   "codemirror_mode": {
    "name": "ipython",
    "version": 3
   },
   "file_extension": ".py",
   "mimetype": "text/x-python",
   "name": "python",
   "nbconvert_exporter": "python",
   "pygments_lexer": "ipython3",
   "version": "3.11.4"
  },
  "orig_nbformat": 4
 },
 "nbformat": 4,
 "nbformat_minor": 2
}
